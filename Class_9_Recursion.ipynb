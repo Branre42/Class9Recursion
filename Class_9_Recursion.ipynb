{
  "nbformat": 4,
  "nbformat_minor": 0,
  "metadata": {
    "colab": {
      "provenance": [],
      "authorship_tag": "ABX9TyMJg6A4aniaouPkNquXiQlB",
      "include_colab_link": true
    },
    "kernelspec": {
      "name": "python3",
      "display_name": "Python 3"
    },
    "language_info": {
      "name": "python"
    }
  },
  "cells": [
    {
      "cell_type": "markdown",
      "metadata": {
        "id": "view-in-github",
        "colab_type": "text"
      },
      "source": [
        "<a href=\"https://colab.research.google.com/github/Branre42/Class9Recursion/blob/main/Class_9_Recursion.ipynb\" target=\"_parent\"><img src=\"https://colab.research.google.com/assets/colab-badge.svg\" alt=\"Open In Colab\"/></a>"
      ]
    },
    {
      "cell_type": "code",
      "execution_count": null,
      "metadata": {
        "id": "2PiGk-5DPTAQ"
      },
      "outputs": [],
      "source": [
        "def print_next_numbers(number, count=1):\n",
        "}\n",
        "    print(number)\n",
        "\n",
        "    }\n",
        "    if count < 10:\n",
        "        print_next_numbers(number + 1, count + 1)\n",
        "\n",
        "}\n",
        "start_number = int(input(\"Ingresa el número de inicio: \"))\n",
        "print_next_numbers(start_number)"
      ]
    }
  ]
}